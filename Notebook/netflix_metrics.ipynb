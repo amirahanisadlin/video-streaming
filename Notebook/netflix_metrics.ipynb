{
 "cells": [
  {
   "cell_type": "code",
   "execution_count": 1,
   "metadata": {
    "id": "A1q91G2o271z"
   },
   "outputs": [],
   "source": [
    "import json\n",
    "import csv\n",
    "import numpy as np\n",
    "import pandas as pd\n",
    "import matplotlib.pyplot as plt\n",
    "from random import sample\n",
    "from datetime import datetime, timedelta"
   ]
  },
  {
   "cell_type": "markdown",
   "metadata": {},
   "source": [
    "# Age Groups"
   ]
  },
  {
   "cell_type": "markdown",
   "metadata": {
    "id": "2zRmO-vZUoH8"
   },
   "source": [
    "\n",
    "## Followers Twitter Age Group"
   ]
  },
  {
   "cell_type": "code",
   "execution_count": 3,
   "metadata": {
    "colab": {
     "base_uri": "https://localhost:8080/",
     "height": 533
    },
    "id": "KKVz3o-1U0dc",
    "outputId": "3018c889-bad4-4c04-e908-0f6bb2085c74",
    "scrolled": true
   },
   "outputs": [
    {
     "name": "stderr",
     "output_type": "stream",
     "text": [
      "<ipython-input-3-ee5e99b4c87d>:5: SettingWithCopyWarning: \n",
      "A value is trying to be set on a copy of a slice from a DataFrame.\n",
      "Try using .loc[row_indexer,col_indexer] = value instead\n",
      "\n",
      "See the caveats in the documentation: https://pandas.pydata.org/pandas-docs/stable/user_guide/indexing.html#returning-a-view-versus-a-copy\n",
      "  df_age['year'] = pd.to_numeric(df_age['year'])\n"
     ]
    },
    {
     "data": {
      "text/html": [
       "<div>\n",
       "<style scoped>\n",
       "    .dataframe tbody tr th:only-of-type {\n",
       "        vertical-align: middle;\n",
       "    }\n",
       "\n",
       "    .dataframe tbody tr th {\n",
       "        vertical-align: top;\n",
       "    }\n",
       "\n",
       "    .dataframe thead th {\n",
       "        text-align: right;\n",
       "    }\n",
       "</style>\n",
       "<table border=\"1\" class=\"dataframe\">\n",
       "  <thead>\n",
       "    <tr style=\"text-align: right;\">\n",
       "      <th></th>\n",
       "      <th>screen_name</th>\n",
       "      <th>year</th>\n",
       "    </tr>\n",
       "  </thead>\n",
       "  <tbody>\n",
       "    <tr>\n",
       "      <th>0</th>\n",
       "      <td>Hzzz33558971</td>\n",
       "      <td>2021</td>\n",
       "    </tr>\n",
       "    <tr>\n",
       "      <th>1</th>\n",
       "      <td>khairiah_a</td>\n",
       "      <td>2011</td>\n",
       "    </tr>\n",
       "    <tr>\n",
       "      <th>2</th>\n",
       "      <td>farhankpor</td>\n",
       "      <td>2021</td>\n",
       "    </tr>\n",
       "    <tr>\n",
       "      <th>3</th>\n",
       "      <td>opantystar_Ychi</td>\n",
       "      <td>2020</td>\n",
       "    </tr>\n",
       "    <tr>\n",
       "      <th>4</th>\n",
       "      <td>cashloverxxx</td>\n",
       "      <td>2021</td>\n",
       "    </tr>\n",
       "    <tr>\n",
       "      <th>...</th>\n",
       "      <td>...</td>\n",
       "      <td>...</td>\n",
       "    </tr>\n",
       "    <tr>\n",
       "      <th>150899</th>\n",
       "      <td>JessicaJones</td>\n",
       "      <td>2013</td>\n",
       "    </tr>\n",
       "    <tr>\n",
       "      <th>150900</th>\n",
       "      <td>RV_903</td>\n",
       "      <td>2009</td>\n",
       "    </tr>\n",
       "    <tr>\n",
       "      <th>150901</th>\n",
       "      <td>hotsforRalex</td>\n",
       "      <td>2013</td>\n",
       "    </tr>\n",
       "    <tr>\n",
       "      <th>150902</th>\n",
       "      <td>AkulKhandelwal</td>\n",
       "      <td>2011</td>\n",
       "    </tr>\n",
       "    <tr>\n",
       "      <th>150903</th>\n",
       "      <td>verified</td>\n",
       "      <td>2009</td>\n",
       "    </tr>\n",
       "  </tbody>\n",
       "</table>\n",
       "<p>150904 rows × 2 columns</p>\n",
       "</div>"
      ],
      "text/plain": [
       "            screen_name  year\n",
       "0          Hzzz33558971  2021\n",
       "1            khairiah_a  2011\n",
       "2            farhankpor  2021\n",
       "3       opantystar_Ychi  2020\n",
       "4          cashloverxxx  2021\n",
       "...                 ...   ...\n",
       "150899     JessicaJones  2013\n",
       "150900           RV_903  2009\n",
       "150901     hotsforRalex  2013\n",
       "150902   AkulKhandelwal  2011\n",
       "150903         verified  2009\n",
       "\n",
       "[150904 rows x 2 columns]"
      ]
     },
     "execution_count": 3,
     "metadata": {},
     "output_type": "execute_result"
    }
   ],
   "source": [
    "df = pd.read_csv('../Datasets/netflix_followers.csv') # Friends tukar followers.json\n",
    "df['created_at'] = pd.to_datetime(df['created_at'])\n",
    "df['year'] = df['created_at'].dt.strftime('%Y')\n",
    "df_age = df[['screen_name', 'year']]\n",
    "df_age['year'] = pd.to_numeric(df_age['year'])\n",
    "df_age"
   ]
  },
  {
   "cell_type": "code",
   "execution_count": 4,
   "metadata": {
    "colab": {
     "base_uri": "https://localhost:8080/",
     "height": 533
    },
    "id": "BjPMCBjYU0a6",
    "outputId": "1ca6ec57-cd90-4dee-e2fc-f7d1ff226674"
   },
   "outputs": [
    {
     "data": {
      "text/html": [
       "<div>\n",
       "<style scoped>\n",
       "    .dataframe tbody tr th:only-of-type {\n",
       "        vertical-align: middle;\n",
       "    }\n",
       "\n",
       "    .dataframe tbody tr th {\n",
       "        vertical-align: top;\n",
       "    }\n",
       "\n",
       "    .dataframe thead th {\n",
       "        text-align: right;\n",
       "    }\n",
       "</style>\n",
       "<table border=\"1\" class=\"dataframe\">\n",
       "  <thead>\n",
       "    <tr style=\"text-align: right;\">\n",
       "      <th></th>\n",
       "      <th>screen_name</th>\n",
       "      <th>year</th>\n",
       "      <th>age</th>\n",
       "    </tr>\n",
       "  </thead>\n",
       "  <tbody>\n",
       "    <tr>\n",
       "      <th>0</th>\n",
       "      <td>Hzzz33558971</td>\n",
       "      <td>2021</td>\n",
       "      <td>0</td>\n",
       "    </tr>\n",
       "    <tr>\n",
       "      <th>1</th>\n",
       "      <td>khairiah_a</td>\n",
       "      <td>2011</td>\n",
       "      <td>10</td>\n",
       "    </tr>\n",
       "    <tr>\n",
       "      <th>2</th>\n",
       "      <td>farhankpor</td>\n",
       "      <td>2021</td>\n",
       "      <td>0</td>\n",
       "    </tr>\n",
       "    <tr>\n",
       "      <th>3</th>\n",
       "      <td>opantystar_Ychi</td>\n",
       "      <td>2020</td>\n",
       "      <td>1</td>\n",
       "    </tr>\n",
       "    <tr>\n",
       "      <th>4</th>\n",
       "      <td>cashloverxxx</td>\n",
       "      <td>2021</td>\n",
       "      <td>0</td>\n",
       "    </tr>\n",
       "    <tr>\n",
       "      <th>...</th>\n",
       "      <td>...</td>\n",
       "      <td>...</td>\n",
       "      <td>...</td>\n",
       "    </tr>\n",
       "    <tr>\n",
       "      <th>150899</th>\n",
       "      <td>JessicaJones</td>\n",
       "      <td>2013</td>\n",
       "      <td>8</td>\n",
       "    </tr>\n",
       "    <tr>\n",
       "      <th>150900</th>\n",
       "      <td>RV_903</td>\n",
       "      <td>2009</td>\n",
       "      <td>12</td>\n",
       "    </tr>\n",
       "    <tr>\n",
       "      <th>150901</th>\n",
       "      <td>hotsforRalex</td>\n",
       "      <td>2013</td>\n",
       "      <td>8</td>\n",
       "    </tr>\n",
       "    <tr>\n",
       "      <th>150902</th>\n",
       "      <td>AkulKhandelwal</td>\n",
       "      <td>2011</td>\n",
       "      <td>10</td>\n",
       "    </tr>\n",
       "    <tr>\n",
       "      <th>150903</th>\n",
       "      <td>verified</td>\n",
       "      <td>2009</td>\n",
       "      <td>12</td>\n",
       "    </tr>\n",
       "  </tbody>\n",
       "</table>\n",
       "<p>150904 rows × 3 columns</p>\n",
       "</div>"
      ],
      "text/plain": [
       "            screen_name  year  age\n",
       "0          Hzzz33558971  2021    0\n",
       "1            khairiah_a  2011   10\n",
       "2            farhankpor  2021    0\n",
       "3       opantystar_Ychi  2020    1\n",
       "4          cashloverxxx  2021    0\n",
       "...                 ...   ...  ...\n",
       "150899     JessicaJones  2013    8\n",
       "150900           RV_903  2009   12\n",
       "150901     hotsforRalex  2013    8\n",
       "150902   AkulKhandelwal  2011   10\n",
       "150903         verified  2009   12\n",
       "\n",
       "[150904 rows x 3 columns]"
      ]
     },
     "execution_count": 4,
     "metadata": {},
     "output_type": "execute_result"
    }
   ],
   "source": [
    "today = datetime.now() - timedelta()\n",
    "this_year = datetime.strftime(today, '%Y')\n",
    "df_age['age'] = int(this_year) - df_age['year']\n",
    "df_age"
   ]
  },
  {
   "cell_type": "code",
   "execution_count": 5,
   "metadata": {
    "colab": {
     "base_uri": "https://localhost:8080/",
     "height": 467
    },
    "id": "68k4yu3lU0YZ",
    "outputId": "69ff61be-66e7-4e15-f28b-f51aba21db6c",
    "scrolled": true
   },
   "outputs": [
    {
     "data": {
      "text/html": [
       "<div>\n",
       "<style scoped>\n",
       "    .dataframe tbody tr th:only-of-type {\n",
       "        vertical-align: middle;\n",
       "    }\n",
       "\n",
       "    .dataframe tbody tr th {\n",
       "        vertical-align: top;\n",
       "    }\n",
       "\n",
       "    .dataframe thead th {\n",
       "        text-align: right;\n",
       "    }\n",
       "</style>\n",
       "<table border=\"1\" class=\"dataframe\">\n",
       "  <thead>\n",
       "    <tr style=\"text-align: right;\">\n",
       "      <th></th>\n",
       "      <th>age</th>\n",
       "      <th>aggregate age</th>\n",
       "    </tr>\n",
       "  </thead>\n",
       "  <tbody>\n",
       "    <tr>\n",
       "      <th>10</th>\n",
       "      <td>0</td>\n",
       "      <td>5736</td>\n",
       "    </tr>\n",
       "    <tr>\n",
       "      <th>2</th>\n",
       "      <td>1</td>\n",
       "      <td>22443</td>\n",
       "    </tr>\n",
       "    <tr>\n",
       "      <th>0</th>\n",
       "      <td>2</td>\n",
       "      <td>32452</td>\n",
       "    </tr>\n",
       "    <tr>\n",
       "      <th>1</th>\n",
       "      <td>3</td>\n",
       "      <td>28953</td>\n",
       "    </tr>\n",
       "    <tr>\n",
       "      <th>5</th>\n",
       "      <td>4</td>\n",
       "      <td>7836</td>\n",
       "    </tr>\n",
       "    <tr>\n",
       "      <th>6</th>\n",
       "      <td>5</td>\n",
       "      <td>6921</td>\n",
       "    </tr>\n",
       "    <tr>\n",
       "      <th>11</th>\n",
       "      <td>6</td>\n",
       "      <td>5389</td>\n",
       "    </tr>\n",
       "    <tr>\n",
       "      <th>12</th>\n",
       "      <td>7</td>\n",
       "      <td>4885</td>\n",
       "    </tr>\n",
       "    <tr>\n",
       "      <th>7</th>\n",
       "      <td>8</td>\n",
       "      <td>6259</td>\n",
       "    </tr>\n",
       "    <tr>\n",
       "      <th>4</th>\n",
       "      <td>9</td>\n",
       "      <td>8645</td>\n",
       "    </tr>\n",
       "    <tr>\n",
       "      <th>3</th>\n",
       "      <td>10</td>\n",
       "      <td>8677</td>\n",
       "    </tr>\n",
       "    <tr>\n",
       "      <th>9</th>\n",
       "      <td>11</td>\n",
       "      <td>5921</td>\n",
       "    </tr>\n",
       "    <tr>\n",
       "      <th>8</th>\n",
       "      <td>12</td>\n",
       "      <td>6125</td>\n",
       "    </tr>\n",
       "    <tr>\n",
       "      <th>13</th>\n",
       "      <td>13</td>\n",
       "      <td>492</td>\n",
       "    </tr>\n",
       "    <tr>\n",
       "      <th>14</th>\n",
       "      <td>14</td>\n",
       "      <td>164</td>\n",
       "    </tr>\n",
       "    <tr>\n",
       "      <th>15</th>\n",
       "      <td>15</td>\n",
       "      <td>6</td>\n",
       "    </tr>\n",
       "  </tbody>\n",
       "</table>\n",
       "</div>"
      ],
      "text/plain": [
       "    age  aggregate age\n",
       "10    0           5736\n",
       "2     1          22443\n",
       "0     2          32452\n",
       "1     3          28953\n",
       "5     4           7836\n",
       "6     5           6921\n",
       "11    6           5389\n",
       "12    7           4885\n",
       "7     8           6259\n",
       "4     9           8645\n",
       "3    10           8677\n",
       "9    11           5921\n",
       "8    12           6125\n",
       "13   13            492\n",
       "14   14            164\n",
       "15   15              6"
      ]
     },
     "execution_count": 5,
     "metadata": {},
     "output_type": "execute_result"
    }
   ],
   "source": [
    "total_count = pd.DataFrame(df_age.age.value_counts().reset_index().values, columns=[\"age\", \"aggregate age\"])\n",
    "a = total_count.sort_values('age')\n",
    "a"
   ]
  },
  {
   "cell_type": "code",
   "execution_count": 6,
   "metadata": {
    "colab": {
     "base_uri": "https://localhost:8080/",
     "height": 554
    },
    "id": "UrsDs_mUU0SX",
    "outputId": "e278fe6b-1abc-486b-c099-2c916201c642",
    "scrolled": false
   },
   "outputs": [
    {
     "data": {
      "image/png": "[encoded data removed]",
      "text/plain": [
       "<Figure size 1152x648 with 1 Axes>"
      ]
     },
     "metadata": {
      "needs_background": "light"
     },
     "output_type": "display_data"
    }
   ],
   "source": [
    "age = a['age']\n",
    "count = a['aggregate age']\n",
    "\n",
    "fig, ax = plt.subplots(figsize =(16, 9)) \n",
    "\n",
    "# Horizontal Bar Plot \n",
    "ax.barh(age, count) \n",
    "\n",
    "# Remove axes splines \n",
    "for s in ['top', 'bottom', 'left', 'right']: \n",
    "\tax.spines[s].set_visible(False) \n",
    "\n",
    "# Remove x, y Ticks \n",
    "ax.xaxis.set_ticks_position('none') \n",
    "ax.yaxis.set_ticks_position('none') \n",
    "\n",
    "# Add padding between axes and labels \n",
    "ax.xaxis.set_tick_params(pad = 5) \n",
    "ax.yaxis.set_tick_params(pad = 10) \n",
    "\n",
    "# Add x, y gridlines \n",
    "ax.grid(b = True, color ='grey', \n",
    "\t\tlinestyle ='-.', linewidth = 0.5, \n",
    "\t\talpha = 0.2) \n",
    "\n",
    "# Show top values \n",
    "ax.invert_yaxis() \n",
    "\n",
    "# Add annotation to bars \n",
    "for i in ax.patches: \n",
    "\tplt.text(i.get_width()+0.2, i.get_y()+0.5, \n",
    "\t\t\tstr(round((i.get_width()), 2)), \n",
    "\t\t\tfontsize = 10, fontweight ='bold', \n",
    "\t\t\tcolor ='grey') \n",
    "\n",
    "# Add Plot Title \n",
    "ax.set_title('Age Groups of Followers', \n",
    "\t\t\tloc ='left', ) \n",
    "\n",
    "# Show Plot \n",
    "plt.show() \n"
   ]
  },
  {
   "cell_type": "markdown",
   "metadata": {
    "id": "2zRmO-vZUoH8"
   },
   "source": [
    "\n",
    "## Friends Twitter Age Group"
   ]
  },
  {
   "cell_type": "code",
   "execution_count": 7,
   "metadata": {},
   "outputs": [
    {
     "name": "stderr",
     "output_type": "stream",
     "text": [
      "<ipython-input-7-eb56ccb6fdbc>:5: SettingWithCopyWarning: \n",
      "A value is trying to be set on a copy of a slice from a DataFrame.\n",
      "Try using .loc[row_indexer,col_indexer] = value instead\n",
      "\n",
      "See the caveats in the documentation: https://pandas.pydata.org/pandas-docs/stable/user_guide/indexing.html#returning-a-view-versus-a-copy\n",
      "  df_age['year'] = pd.to_numeric(df_age['year'])\n"
     ]
    },
    {
     "data": {
      "text/html": [
       "<div>\n",
       "<style scoped>\n",
       "    .dataframe tbody tr th:only-of-type {\n",
       "        vertical-align: middle;\n",
       "    }\n",
       "\n",
       "    .dataframe tbody tr th {\n",
       "        vertical-align: top;\n",
       "    }\n",
       "\n",
       "    .dataframe thead th {\n",
       "        text-align: right;\n",
       "    }\n",
       "</style>\n",
       "<table border=\"1\" class=\"dataframe\">\n",
       "  <thead>\n",
       "    <tr style=\"text-align: right;\">\n",
       "      <th></th>\n",
       "      <th>screen_name</th>\n",
       "      <th>year</th>\n",
       "    </tr>\n",
       "  </thead>\n",
       "  <tbody>\n",
       "    <tr>\n",
       "      <th>0</th>\n",
       "      <td>bridgerton</td>\n",
       "      <td>2020</td>\n",
       "    </tr>\n",
       "    <tr>\n",
       "      <th>1</th>\n",
       "      <td>GSCinemas</td>\n",
       "      <td>2009</td>\n",
       "    </tr>\n",
       "    <tr>\n",
       "      <th>2</th>\n",
       "      <td>iamsrk</td>\n",
       "      <td>2010</td>\n",
       "    </tr>\n",
       "    <tr>\n",
       "      <th>3</th>\n",
       "      <td>AniTrendz</td>\n",
       "      <td>2013</td>\n",
       "    </tr>\n",
       "    <tr>\n",
       "      <th>4</th>\n",
       "      <td>neverhaveiever</td>\n",
       "      <td>2020</td>\n",
       "    </tr>\n",
       "    <tr>\n",
       "      <th>...</th>\n",
       "      <td>...</td>\n",
       "      <td>...</td>\n",
       "    </tr>\n",
       "    <tr>\n",
       "      <th>63</th>\n",
       "      <td>NetflixLAT</td>\n",
       "      <td>2010</td>\n",
       "    </tr>\n",
       "    <tr>\n",
       "      <th>64</th>\n",
       "      <td>NetflixBrasil</td>\n",
       "      <td>2010</td>\n",
       "    </tr>\n",
       "    <tr>\n",
       "      <th>65</th>\n",
       "      <td>Netflix_CA</td>\n",
       "      <td>2010</td>\n",
       "    </tr>\n",
       "    <tr>\n",
       "      <th>66</th>\n",
       "      <td>NetflixUK</td>\n",
       "      <td>2010</td>\n",
       "    </tr>\n",
       "    <tr>\n",
       "      <th>67</th>\n",
       "      <td>NarcosNetflix</td>\n",
       "      <td>2015</td>\n",
       "    </tr>\n",
       "  </tbody>\n",
       "</table>\n",
       "<p>68 rows × 2 columns</p>\n",
       "</div>"
      ],
      "text/plain": [
       "       screen_name  year\n",
       "0       bridgerton  2020\n",
       "1        GSCinemas  2009\n",
       "2           iamsrk  2010\n",
       "3        AniTrendz  2013\n",
       "4   neverhaveiever  2020\n",
       "..             ...   ...\n",
       "63      NetflixLAT  2010\n",
       "64   NetflixBrasil  2010\n",
       "65      Netflix_CA  2010\n",
       "66       NetflixUK  2010\n",
       "67   NarcosNetflix  2015\n",
       "\n",
       "[68 rows x 2 columns]"
      ]
     },
     "execution_count": 7,
     "metadata": {},
     "output_type": "execute_result"
    }
   ],
   "source": [
    "df = pd.read_csv('../Datasets/netflix_friends.csv') # Friends tukar followers.json\n",
    "df['created_at'] = pd.to_datetime(df['created_at'])\n",
    "df['year'] = df['created_at'].dt.strftime('%Y')\n",
    "df_age = df[['screen_name', 'year']]\n",
    "df_age['year'] = pd.to_numeric(df_age['year'])\n",
    "df_age"
   ]
  },
  {
   "cell_type": "code",
   "execution_count": 8,
   "metadata": {},
   "outputs": [
    {
     "data": {
      "text/html": [
       "<div>\n",
       "<style scoped>\n",
       "    .dataframe tbody tr th:only-of-type {\n",
       "        vertical-align: middle;\n",
       "    }\n",
       "\n",
       "    .dataframe tbody tr th {\n",
       "        vertical-align: top;\n",
       "    }\n",
       "\n",
       "    .dataframe thead th {\n",
       "        text-align: right;\n",
       "    }\n",
       "</style>\n",
       "<table border=\"1\" class=\"dataframe\">\n",
       "  <thead>\n",
       "    <tr style=\"text-align: right;\">\n",
       "      <th></th>\n",
       "      <th>screen_name</th>\n",
       "      <th>year</th>\n",
       "      <th>age</th>\n",
       "    </tr>\n",
       "  </thead>\n",
       "  <tbody>\n",
       "    <tr>\n",
       "      <th>0</th>\n",
       "      <td>bridgerton</td>\n",
       "      <td>2020</td>\n",
       "      <td>1</td>\n",
       "    </tr>\n",
       "    <tr>\n",
       "      <th>1</th>\n",
       "      <td>GSCinemas</td>\n",
       "      <td>2009</td>\n",
       "      <td>12</td>\n",
       "    </tr>\n",
       "    <tr>\n",
       "      <th>2</th>\n",
       "      <td>iamsrk</td>\n",
       "      <td>2010</td>\n",
       "      <td>11</td>\n",
       "    </tr>\n",
       "    <tr>\n",
       "      <th>3</th>\n",
       "      <td>AniTrendz</td>\n",
       "      <td>2013</td>\n",
       "      <td>8</td>\n",
       "    </tr>\n",
       "    <tr>\n",
       "      <th>4</th>\n",
       "      <td>neverhaveiever</td>\n",
       "      <td>2020</td>\n",
       "      <td>1</td>\n",
       "    </tr>\n",
       "    <tr>\n",
       "      <th>...</th>\n",
       "      <td>...</td>\n",
       "      <td>...</td>\n",
       "      <td>...</td>\n",
       "    </tr>\n",
       "    <tr>\n",
       "      <th>63</th>\n",
       "      <td>NetflixLAT</td>\n",
       "      <td>2010</td>\n",
       "      <td>11</td>\n",
       "    </tr>\n",
       "    <tr>\n",
       "      <th>64</th>\n",
       "      <td>NetflixBrasil</td>\n",
       "      <td>2010</td>\n",
       "      <td>11</td>\n",
       "    </tr>\n",
       "    <tr>\n",
       "      <th>65</th>\n",
       "      <td>Netflix_CA</td>\n",
       "      <td>2010</td>\n",
       "      <td>11</td>\n",
       "    </tr>\n",
       "    <tr>\n",
       "      <th>66</th>\n",
       "      <td>NetflixUK</td>\n",
       "      <td>2010</td>\n",
       "      <td>11</td>\n",
       "    </tr>\n",
       "    <tr>\n",
       "      <th>67</th>\n",
       "      <td>NarcosNetflix</td>\n",
       "      <td>2015</td>\n",
       "      <td>6</td>\n",
       "    </tr>\n",
       "  </tbody>\n",
       "</table>\n",
       "<p>68 rows × 3 columns</p>\n",
       "</div>"
      ],
      "text/plain": [
       "       screen_name  year  age\n",
       "0       bridgerton  2020    1\n",
       "1        GSCinemas  2009   12\n",
       "2           iamsrk  2010   11\n",
       "3        AniTrendz  2013    8\n",
       "4   neverhaveiever  2020    1\n",
       "..             ...   ...  ...\n",
       "63      NetflixLAT  2010   11\n",
       "64   NetflixBrasil  2010   11\n",
       "65      Netflix_CA  2010   11\n",
       "66       NetflixUK  2010   11\n",
       "67   NarcosNetflix  2015    6\n",
       "\n",
       "[68 rows x 3 columns]"
      ]
     },
     "execution_count": 8,
     "metadata": {},
     "output_type": "execute_result"
    }
   ],
   "source": [
    "today = datetime.now() - timedelta()\n",
    "this_year = datetime.strftime(today, '%Y')\n",
    "df_age['age'] = int(this_year) - df_age['year']\n",
    "df_age"
   ]
  },
  {
   "cell_type": "code",
   "execution_count": 9,
   "metadata": {},
   "outputs": [
    {
     "data": {
      "text/html": [
       "<div>\n",
       "<style scoped>\n",
       "    .dataframe tbody tr th:only-of-type {\n",
       "        vertical-align: middle;\n",
       "    }\n",
       "\n",
       "    .dataframe tbody tr th {\n",
       "        vertical-align: top;\n",
       "    }\n",
       "\n",
       "    .dataframe thead th {\n",
       "        text-align: right;\n",
       "    }\n",
       "</style>\n",
       "<table border=\"1\" class=\"dataframe\">\n",
       "  <thead>\n",
       "    <tr style=\"text-align: right;\">\n",
       "      <th></th>\n",
       "      <th>age</th>\n",
       "      <th>aggregate age</th>\n",
       "    </tr>\n",
       "  </thead>\n",
       "  <tbody>\n",
       "    <tr>\n",
       "      <th>12</th>\n",
       "      <td>1</td>\n",
       "      <td>2</td>\n",
       "    </tr>\n",
       "    <tr>\n",
       "      <th>9</th>\n",
       "      <td>2</td>\n",
       "      <td>3</td>\n",
       "    </tr>\n",
       "    <tr>\n",
       "      <th>1</th>\n",
       "      <td>3</td>\n",
       "      <td>10</td>\n",
       "    </tr>\n",
       "    <tr>\n",
       "      <th>7</th>\n",
       "      <td>4</td>\n",
       "      <td>4</td>\n",
       "    </tr>\n",
       "    <tr>\n",
       "      <th>2</th>\n",
       "      <td>5</td>\n",
       "      <td>8</td>\n",
       "    </tr>\n",
       "    <tr>\n",
       "      <th>0</th>\n",
       "      <td>6</td>\n",
       "      <td>13</td>\n",
       "    </tr>\n",
       "    <tr>\n",
       "      <th>6</th>\n",
       "      <td>7</td>\n",
       "      <td>5</td>\n",
       "    </tr>\n",
       "    <tr>\n",
       "      <th>5</th>\n",
       "      <td>8</td>\n",
       "      <td>5</td>\n",
       "    </tr>\n",
       "    <tr>\n",
       "      <th>11</th>\n",
       "      <td>9</td>\n",
       "      <td>2</td>\n",
       "    </tr>\n",
       "    <tr>\n",
       "      <th>13</th>\n",
       "      <td>10</td>\n",
       "      <td>1</td>\n",
       "    </tr>\n",
       "    <tr>\n",
       "      <th>4</th>\n",
       "      <td>11</td>\n",
       "      <td>5</td>\n",
       "    </tr>\n",
       "    <tr>\n",
       "      <th>3</th>\n",
       "      <td>12</td>\n",
       "      <td>5</td>\n",
       "    </tr>\n",
       "    <tr>\n",
       "      <th>8</th>\n",
       "      <td>13</td>\n",
       "      <td>3</td>\n",
       "    </tr>\n",
       "    <tr>\n",
       "      <th>10</th>\n",
       "      <td>14</td>\n",
       "      <td>2</td>\n",
       "    </tr>\n",
       "  </tbody>\n",
       "</table>\n",
       "</div>"
      ],
      "text/plain": [
       "    age  aggregate age\n",
       "12    1              2\n",
       "9     2              3\n",
       "1     3             10\n",
       "7     4              4\n",
       "2     5              8\n",
       "0     6             13\n",
       "6     7              5\n",
       "5     8              5\n",
       "11    9              2\n",
       "13   10              1\n",
       "4    11              5\n",
       "3    12              5\n",
       "8    13              3\n",
       "10   14              2"
      ]
     },
     "execution_count": 9,
     "metadata": {},
     "output_type": "execute_result"
    }
   ],
   "source": [
    "total_count = pd.DataFrame(df_age.age.value_counts().reset_index().values, columns=[\"age\", \"aggregate age\"])\n",
    "a = total_count.sort_values('age')\n",
    "a"
   ]
  },
  {
   "cell_type": "code",
   "execution_count": 10,
   "metadata": {},
   "outputs": [
    {
     "data": {
      "image/png": "[encoded data removed]",
      "text/plain": [
       "<Figure size 1152x648 with 1 Axes>"
      ]
     },
     "metadata": {
      "needs_background": "light"
     },
     "output_type": "display_data"
    }
   ],
   "source": [
    "age = a['age']\n",
    "count = a['aggregate age']\n",
    "\n",
    "fig, ax = plt.subplots(figsize =(16, 9)) \n",
    "\n",
    "# Horizontal Bar Plot \n",
    "ax.barh(age, count) \n",
    "\n",
    "# Remove axes splines \n",
    "for s in ['top', 'bottom', 'left', 'right']: \n",
    "\tax.spines[s].set_visible(False) \n",
    "\n",
    "# Remove x, y Ticks \n",
    "ax.xaxis.set_ticks_position('none') \n",
    "ax.yaxis.set_ticks_position('none') \n",
    "\n",
    "# Add padding between axes and labels \n",
    "ax.xaxis.set_tick_params(pad = 5) \n",
    "ax.yaxis.set_tick_params(pad = 10) \n",
    "\n",
    "# Add x, y gridlines \n",
    "ax.grid(b = True, color ='grey', \n",
    "\t\tlinestyle ='-.', linewidth = 0.5, \n",
    "\t\talpha = 0.2) \n",
    "\n",
    "# Show top values \n",
    "ax.invert_yaxis() \n",
    "\n",
    "# Add annotation to bars \n",
    "for i in ax.patches: \n",
    "\tplt.text(i.get_width()+0.2, i.get_y()+0.5, \n",
    "\t\t\tstr(round((i.get_width()), 2)), \n",
    "\t\t\tfontsize = 10, fontweight ='bold', \n",
    "\t\t\tcolor ='grey') \n",
    "\n",
    "# Add Plot Title \n",
    "ax.set_title('Age Groups of Followers', \n",
    "\t\t\tloc ='left', ) \n",
    "\n",
    "# Show Plot \n",
    "plt.show() "
   ]
  },
  {
   "cell_type": "markdown",
   "metadata": {
    "id": "cZ_vdh7BymLY"
   },
   "source": [
    "## Followers Growth"
   ]
  },
  {
   "cell_type": "code",
   "execution_count": 11,
   "metadata": {
    "id": "K2MQQFkvyrpu"
   },
   "outputs": [
    {
     "data": {
      "text/html": [
       "<div>\n",
       "<style scoped>\n",
       "    .dataframe tbody tr th:only-of-type {\n",
       "        vertical-align: middle;\n",
       "    }\n",
       "\n",
       "    .dataframe tbody tr th {\n",
       "        vertical-align: top;\n",
       "    }\n",
       "\n",
       "    .dataframe thead th {\n",
       "        text-align: right;\n",
       "    }\n",
       "</style>\n",
       "<table border=\"1\" class=\"dataframe\">\n",
       "  <thead>\n",
       "    <tr style=\"text-align: right;\">\n",
       "      <th></th>\n",
       "      <th>Date Collected</th>\n",
       "      <th>Count</th>\n",
       "    </tr>\n",
       "  </thead>\n",
       "  <tbody>\n",
       "    <tr>\n",
       "      <th>0</th>\n",
       "      <td>9/2/2021</td>\n",
       "      <td>146990</td>\n",
       "    </tr>\n",
       "    <tr>\n",
       "      <th>1</th>\n",
       "      <td>10/2/2021</td>\n",
       "      <td>147192</td>\n",
       "    </tr>\n",
       "    <tr>\n",
       "      <th>2</th>\n",
       "      <td>11/2/2021</td>\n",
       "      <td>147392</td>\n",
       "    </tr>\n",
       "    <tr>\n",
       "      <th>3</th>\n",
       "      <td>12/2/2021</td>\n",
       "      <td>147540</td>\n",
       "    </tr>\n",
       "    <tr>\n",
       "      <th>4</th>\n",
       "      <td>13/2/2021</td>\n",
       "      <td>147622</td>\n",
       "    </tr>\n",
       "  </tbody>\n",
       "</table>\n",
       "</div>"
      ],
      "text/plain": [
       "  Date Collected   Count\n",
       "0       9/2/2021  146990\n",
       "1      10/2/2021  147192\n",
       "2      11/2/2021  147392\n",
       "3      12/2/2021  147540\n",
       "4      13/2/2021  147622"
      ]
     },
     "execution_count": 11,
     "metadata": {},
     "output_type": "execute_result"
    }
   ],
   "source": [
    "followers = pd.read_csv(\"../Datasets/netflix_followers_count.csv\")\n",
    "followers.head()"
   ]
  },
  {
   "cell_type": "code",
   "execution_count": 12,
   "metadata": {
    "id": "keH84wlDyvda"
   },
   "outputs": [
    {
     "data": {
      "image/png": "[encoded data removed]",
      "text/plain": [
       "<Figure size 1440x720 with 1 Axes>"
      ]
     },
     "metadata": {
      "needs_background": "light"
     },
     "output_type": "display_data"
    }
   ],
   "source": [
    "plt.figure(figsize=(20, 10))\n",
    "plt.plot(followers['Date Collected'], followers['Count'])\n",
    "plt.xlabel('Date')\n",
    "plt.ylabel('Count')\n",
    "plt.show()"
   ]
  },
  {
   "cell_type": "code",
   "execution_count": 13,
   "metadata": {
    "id": "V-26szXpyvm4"
   },
   "outputs": [
    {
     "name": "stdout",
     "output_type": "stream",
     "text": [
      "Average followers count daily:  158468\n"
     ]
    }
   ],
   "source": [
    "avg_fll_per_day = followers['Count'].sum()/14\n",
    "print(\"Average followers count daily: \", int(avg_fll_per_day))"
   ]
  },
  {
   "cell_type": "code",
   "execution_count": 14,
   "metadata": {
    "id": "kw-cXufzyvuK"
   },
   "outputs": [
    {
     "name": "stdout",
     "output_type": "stream",
     "text": [
      "202\n",
      "200\n",
      "148\n",
      "82\n",
      "105\n",
      "73\n",
      "116\n",
      "96\n",
      "112\n",
      "111\n",
      "102\n",
      "84\n",
      "129\n",
      "Followers Growth Per Day:  111\n"
     ]
    }
   ],
   "source": [
    "i = 0\n",
    "total_fll_per_day = 0\n",
    "fll_growth_per_day = 0\n",
    "\n",
    "while i < 13:\n",
    "    fll_per_day = followers['Count'][i+1] - followers['Count'][i]\n",
    "    print(fll_per_day)\n",
    "    i+=1\n",
    "    \n",
    "    total_fll_per_day = total_fll_per_day + fll_per_day\n",
    "\n",
    "fll_growth_per_day = total_fll_per_day/14\n",
    "\n",
    "print(\"Followers Growth Per Day: \", int(fll_growth_per_day))"
   ]
  },
  {
   "cell_type": "markdown",
   "metadata": {
    "id": "CIrAiFyu13Wl"
   },
   "source": [
    "## Average Mentions per Day"
   ]
  },
  {
   "cell_type": "code",
   "execution_count": 15,
   "metadata": {
    "id": "Vb5Jcml6194K"
   },
   "outputs": [],
   "source": [
    "df = pd.read_csv('../Datasets/netflix_mentions.csv')"
   ]
  },
  {
   "cell_type": "code",
   "execution_count": 16,
   "metadata": {
    "id": "C6lZAP9z2ErQ"
   },
   "outputs": [],
   "source": [
    "df['created_at'] = pd.to_datetime(df['created_at'])\n",
    "df['date'] = [d.date() for d in df['created_at']]\n",
    "df['time'] = [d.time() for d in df['created_at']]"
   ]
  },
  {
   "cell_type": "code",
   "execution_count": 17,
   "metadata": {
    "id": "qE2AhQZl2J0b"
   },
   "outputs": [],
   "source": [
    "avgtweet = df.groupby('date')['text'].count()"
   ]
  },
  {
   "cell_type": "code",
   "execution_count": 18,
   "metadata": {
    "id": "xeLVXrMc2LUv"
   },
   "outputs": [],
   "source": [
    "avgtweet = avgtweet.to_frame()\n",
    "avgtweet = avgtweet.rename(columns={\"text\": \"tweets\"})"
   ]
  },
  {
   "cell_type": "code",
   "execution_count": 19,
   "metadata": {
    "id": "RqRjwhZp2MsE"
   },
   "outputs": [
    {
     "data": {
      "text/plain": [
       "<AxesSubplot:xlabel='date'>"
      ]
     },
     "execution_count": 19,
     "metadata": {},
     "output_type": "execute_result"
    },
    {
     "data": {
      "image/png": "[encoded data removed]",
      "text/plain": [
       "<Figure size 432x288 with 1 Axes>"
      ]
     },
     "metadata": {
      "needs_background": "light"
     },
     "output_type": "display_data"
    }
   ],
   "source": [
    "avgtweet.plot.bar()"
   ]
  },
  {
   "cell_type": "markdown",
   "metadata": {
    "id": "nxUYa8omIPvd"
   },
   "source": [
    "## Peak Time of Mentions Per Day"
   ]
  },
  {
   "cell_type": "code",
   "execution_count": 20,
   "metadata": {
    "id": "Ew_k-_8EINYg"
   },
   "outputs": [],
   "source": [
    "mentions = pd.read_csv('../Datasets/netflix_mentions.csv')"
   ]
  },
  {
   "cell_type": "code",
   "execution_count": 21,
   "metadata": {
    "id": "PLG_8SzyINlQ"
   },
   "outputs": [
    {
     "data": {
      "text/html": [
       "<div>\n",
       "<style scoped>\n",
       "    .dataframe tbody tr th:only-of-type {\n",
       "        vertical-align: middle;\n",
       "    }\n",
       "\n",
       "    .dataframe tbody tr th {\n",
       "        vertical-align: top;\n",
       "    }\n",
       "\n",
       "    .dataframe thead th {\n",
       "        text-align: right;\n",
       "    }\n",
       "</style>\n",
       "<table border=\"1\" class=\"dataframe\">\n",
       "  <thead>\n",
       "    <tr style=\"text-align: right;\">\n",
       "      <th></th>\n",
       "      <th>created_at</th>\n",
       "      <th>text</th>\n",
       "      <th>entities</th>\n",
       "    </tr>\n",
       "  </thead>\n",
       "  <tbody>\n",
       "    <tr>\n",
       "      <th>0</th>\n",
       "      <td>2021-02-09 23:56:17+00:00</td>\n",
       "      <td>@NetflixMY Siapa kerja jadi translator untuk A...</td>\n",
       "      <td>{'hashtags': [], 'symbols': [], 'user_mentions...</td>\n",
       "    </tr>\n",
       "    <tr>\n",
       "      <th>1</th>\n",
       "      <td>2021-02-09 23:51:25+00:00</td>\n",
       "      <td>@NetflixMY Lesssgoooo minnnnn!!</td>\n",
       "      <td>{'hashtags': [], 'symbols': [], 'user_mentions...</td>\n",
       "    </tr>\n",
       "    <tr>\n",
       "      <th>2</th>\n",
       "      <td>2021-02-09 23:50:28+00:00</td>\n",
       "      <td>@NetflixMY min dah tgk Ying Yang Master ke bel...</td>\n",
       "      <td>{'hashtags': [], 'symbols': [], 'user_mentions...</td>\n",
       "    </tr>\n",
       "    <tr>\n",
       "      <th>3</th>\n",
       "      <td>2021-02-09 23:49:51+00:00</td>\n",
       "      <td>@NetflixMY Nak tgk.. Tp turn off bila tgk dura...</td>\n",
       "      <td>{'hashtags': [], 'symbols': [], 'user_mentions...</td>\n",
       "    </tr>\n",
       "    <tr>\n",
       "      <th>4</th>\n",
       "      <td>2021-02-09 23:49:29+00:00</td>\n",
       "      <td>@NetflixMY 😍</td>\n",
       "      <td>{'hashtags': [], 'symbols': [], 'user_mentions...</td>\n",
       "    </tr>\n",
       "  </tbody>\n",
       "</table>\n",
       "</div>"
      ],
      "text/plain": [
       "                 created_at  \\\n",
       "0 2021-02-09 23:56:17+00:00   \n",
       "1 2021-02-09 23:51:25+00:00   \n",
       "2 2021-02-09 23:50:28+00:00   \n",
       "3 2021-02-09 23:49:51+00:00   \n",
       "4 2021-02-09 23:49:29+00:00   \n",
       "\n",
       "                                                text  \\\n",
       "0  @NetflixMY Siapa kerja jadi translator untuk A...   \n",
       "1                    @NetflixMY Lesssgoooo minnnnn!!   \n",
       "2  @NetflixMY min dah tgk Ying Yang Master ke bel...   \n",
       "3  @NetflixMY Nak tgk.. Tp turn off bila tgk dura...   \n",
       "4                                       @NetflixMY 😍   \n",
       "\n",
       "                                            entities  \n",
       "0  {'hashtags': [], 'symbols': [], 'user_mentions...  \n",
       "1  {'hashtags': [], 'symbols': [], 'user_mentions...  \n",
       "2  {'hashtags': [], 'symbols': [], 'user_mentions...  \n",
       "3  {'hashtags': [], 'symbols': [], 'user_mentions...  \n",
       "4  {'hashtags': [], 'symbols': [], 'user_mentions...  "
      ]
     },
     "execution_count": 21,
     "metadata": {},
     "output_type": "execute_result"
    }
   ],
   "source": [
    "mentions['created_at'] = pd.to_datetime(mentions['created_at'])\n",
    "mentions.head()"
   ]
  },
  {
   "cell_type": "code",
   "execution_count": 22,
   "metadata": {
    "id": "s2UN4QwSINtj"
   },
   "outputs": [
    {
     "data": {
      "text/html": [
       "<div>\n",
       "<style scoped>\n",
       "    .dataframe tbody tr th:only-of-type {\n",
       "        vertical-align: middle;\n",
       "    }\n",
       "\n",
       "    .dataframe tbody tr th {\n",
       "        vertical-align: top;\n",
       "    }\n",
       "\n",
       "    .dataframe thead th {\n",
       "        text-align: right;\n",
       "    }\n",
       "</style>\n",
       "<table border=\"1\" class=\"dataframe\">\n",
       "  <thead>\n",
       "    <tr style=\"text-align: right;\">\n",
       "      <th></th>\n",
       "      <th>created_at</th>\n",
       "      <th>text</th>\n",
       "      <th>entities</th>\n",
       "      <th>time_bin</th>\n",
       "    </tr>\n",
       "  </thead>\n",
       "  <tbody>\n",
       "    <tr>\n",
       "      <th>0</th>\n",
       "      <td>2021-02-09 23:56:17+00:00</td>\n",
       "      <td>@NetflixMY Siapa kerja jadi translator untuk A...</td>\n",
       "      <td>{'hashtags': [], 'symbols': [], 'user_mentions...</td>\n",
       "      <td>Night</td>\n",
       "    </tr>\n",
       "    <tr>\n",
       "      <th>1</th>\n",
       "      <td>2021-02-09 23:51:25+00:00</td>\n",
       "      <td>@NetflixMY Lesssgoooo minnnnn!!</td>\n",
       "      <td>{'hashtags': [], 'symbols': [], 'user_mentions...</td>\n",
       "      <td>Night</td>\n",
       "    </tr>\n",
       "    <tr>\n",
       "      <th>2</th>\n",
       "      <td>2021-02-09 23:50:28+00:00</td>\n",
       "      <td>@NetflixMY min dah tgk Ying Yang Master ke bel...</td>\n",
       "      <td>{'hashtags': [], 'symbols': [], 'user_mentions...</td>\n",
       "      <td>Night</td>\n",
       "    </tr>\n",
       "    <tr>\n",
       "      <th>3</th>\n",
       "      <td>2021-02-09 23:49:51+00:00</td>\n",
       "      <td>@NetflixMY Nak tgk.. Tp turn off bila tgk dura...</td>\n",
       "      <td>{'hashtags': [], 'symbols': [], 'user_mentions...</td>\n",
       "      <td>Night</td>\n",
       "    </tr>\n",
       "    <tr>\n",
       "      <th>4</th>\n",
       "      <td>2021-02-09 23:49:29+00:00</td>\n",
       "      <td>@NetflixMY 😍</td>\n",
       "      <td>{'hashtags': [], 'symbols': [], 'user_mentions...</td>\n",
       "      <td>Night</td>\n",
       "    </tr>\n",
       "  </tbody>\n",
       "</table>\n",
       "</div>"
      ],
      "text/plain": [
       "                 created_at  \\\n",
       "0 2021-02-09 23:56:17+00:00   \n",
       "1 2021-02-09 23:51:25+00:00   \n",
       "2 2021-02-09 23:50:28+00:00   \n",
       "3 2021-02-09 23:49:51+00:00   \n",
       "4 2021-02-09 23:49:29+00:00   \n",
       "\n",
       "                                                text  \\\n",
       "0  @NetflixMY Siapa kerja jadi translator untuk A...   \n",
       "1                    @NetflixMY Lesssgoooo minnnnn!!   \n",
       "2  @NetflixMY min dah tgk Ying Yang Master ke bel...   \n",
       "3  @NetflixMY Nak tgk.. Tp turn off bila tgk dura...   \n",
       "4                                       @NetflixMY 😍   \n",
       "\n",
       "                                            entities time_bin  \n",
       "0  {'hashtags': [], 'symbols': [], 'user_mentions...    Night  \n",
       "1  {'hashtags': [], 'symbols': [], 'user_mentions...    Night  \n",
       "2  {'hashtags': [], 'symbols': [], 'user_mentions...    Night  \n",
       "3  {'hashtags': [], 'symbols': [], 'user_mentions...    Night  \n",
       "4  {'hashtags': [], 'symbols': [], 'user_mentions...    Night  "
      ]
     },
     "execution_count": 22,
     "metadata": {},
     "output_type": "execute_result"
    }
   ],
   "source": [
    "bins = [0, 6, 12, 16, 20, 24]\n",
    "labels = ['Midnight', 'Morning', 'Noon', 'Evening', 'Night']\n",
    "\n",
    "mentions['time_bin'] = pd.cut(mentions['created_at'].dt.hour, bins, labels=labels, right=False)\n",
    "mentions.head()"
   ]
  },
  {
   "cell_type": "code",
   "execution_count": 23,
   "metadata": {
    "id": "o99rMMthINwu"
   },
   "outputs": [
    {
     "data": {
      "text/html": [
       "<div>\n",
       "<style scoped>\n",
       "    .dataframe tbody tr th:only-of-type {\n",
       "        vertical-align: middle;\n",
       "    }\n",
       "\n",
       "    .dataframe tbody tr th {\n",
       "        vertical-align: top;\n",
       "    }\n",
       "\n",
       "    .dataframe thead th {\n",
       "        text-align: right;\n",
       "    }\n",
       "</style>\n",
       "<table border=\"1\" class=\"dataframe\">\n",
       "  <thead>\n",
       "    <tr style=\"text-align: right;\">\n",
       "      <th></th>\n",
       "      <th>counts</th>\n",
       "    </tr>\n",
       "    <tr>\n",
       "      <th>time_bin</th>\n",
       "      <th></th>\n",
       "    </tr>\n",
       "  </thead>\n",
       "  <tbody>\n",
       "    <tr>\n",
       "      <th>Morning</th>\n",
       "      <td>835</td>\n",
       "    </tr>\n",
       "    <tr>\n",
       "      <th>Midnight</th>\n",
       "      <td>690</td>\n",
       "    </tr>\n",
       "    <tr>\n",
       "      <th>Noon</th>\n",
       "      <td>655</td>\n",
       "    </tr>\n",
       "    <tr>\n",
       "      <th>Evening</th>\n",
       "      <td>242</td>\n",
       "    </tr>\n",
       "    <tr>\n",
       "      <th>Night</th>\n",
       "      <td>110</td>\n",
       "    </tr>\n",
       "  </tbody>\n",
       "</table>\n",
       "</div>"
      ],
      "text/plain": [
       "          counts\n",
       "time_bin        \n",
       "Morning      835\n",
       "Midnight     690\n",
       "Noon         655\n",
       "Evening      242\n",
       "Night        110"
      ]
     },
     "execution_count": 23,
     "metadata": {},
     "output_type": "execute_result"
    }
   ],
   "source": [
    "count_mentions = mentions['time_bin'].value_counts().rename_axis('time_bin').to_frame('counts')\n",
    "count_mentions"
   ]
  },
  {
   "cell_type": "code",
   "execution_count": 24,
   "metadata": {
    "id": "BRwK5rhGIN0R"
   },
   "outputs": [
    {
     "data": {
      "text/plain": [
       "<AxesSubplot:xlabel='time_bin'>"
      ]
     },
     "execution_count": 24,
     "metadata": {},
     "output_type": "execute_result"
    },
    {
     "data": {
      "image/png": "[encoded data removed]",
      "text/plain": [
       "<Figure size 432x288 with 1 Axes>"
      ]
     },
     "metadata": {
      "needs_background": "light"
     },
     "output_type": "display_data"
    }
   ],
   "source": [
    "count_mentions.sort_values(by=['time_bin'], ascending=True, inplace=True)\n",
    "count_mentions.plot.bar()"
   ]
  },
  {
   "cell_type": "code",
   "execution_count": 25,
   "metadata": {
    "id": "XeJJh1FSIN3e"
   },
   "outputs": [
    {
     "data": {
      "text/plain": [
       "<AxesSubplot:xlabel='time_bin'>"
      ]
     },
     "execution_count": 25,
     "metadata": {},
     "output_type": "execute_result"
    },
    {
     "data": {
      "image/png": "[encoded data removed]",
      "text/plain": [
       "<Figure size 432x288 with 1 Axes>"
      ]
     },
     "metadata": {
      "needs_background": "light"
     },
     "output_type": "display_data"
    }
   ],
   "source": [
    "count_mentions.sort_values(by=['counts'], ascending=True, inplace=True)\n",
    "count_mentions.plot.bar()"
   ]
  },
  {
   "cell_type": "markdown",
   "metadata": {
    "id": "GTzbAYiYI3oz"
   },
   "source": [
    "## Peak Time of Tweets Per Day"
   ]
  },
  {
   "cell_type": "code",
   "execution_count": 27,
   "metadata": {
    "id": "LPnQdyZcI9I7"
   },
   "outputs": [],
   "source": [
    "tweets = pd.read_csv('../Datasets/netflix_tweets.csv')"
   ]
  },
  {
   "cell_type": "code",
   "execution_count": 28,
   "metadata": {
    "id": "GcMhjGPaJE3E"
   },
   "outputs": [
    {
     "data": {
      "text/html": [
       "<div>\n",
       "<style scoped>\n",
       "    .dataframe tbody tr th:only-of-type {\n",
       "        vertical-align: middle;\n",
       "    }\n",
       "\n",
       "    .dataframe tbody tr th {\n",
       "        vertical-align: top;\n",
       "    }\n",
       "\n",
       "    .dataframe thead th {\n",
       "        text-align: right;\n",
       "    }\n",
       "</style>\n",
       "<table border=\"1\" class=\"dataframe\">\n",
       "  <thead>\n",
       "    <tr style=\"text-align: right;\">\n",
       "      <th></th>\n",
       "      <th>created_at</th>\n",
       "      <th>text</th>\n",
       "      <th>entities</th>\n",
       "    </tr>\n",
       "  </thead>\n",
       "  <tbody>\n",
       "    <tr>\n",
       "      <th>0</th>\n",
       "      <td>2021-02-17 08:30:00+00:00</td>\n",
       "      <td>Use this tweet as your Top 5 checklist - copy ...</td>\n",
       "      <td>{'hashtags': [], 'symbols': [], 'user_mentions...</td>\n",
       "    </tr>\n",
       "    <tr>\n",
       "      <th>1</th>\n",
       "      <td>2021-02-17 07:20:20+00:00</td>\n",
       "      <td>(Btw… Filem Yin-Yang Master ni dan Yin-Yang Ma...</td>\n",
       "      <td>{'hashtags': [], 'symbols': [], 'user_mentions...</td>\n",
       "    </tr>\n",
       "    <tr>\n",
       "      <th>2</th>\n",
       "      <td>2021-02-17 07:00:00+00:00</td>\n",
       "      <td>Master Qingming tak letih ke? Mana-mana pergi ...</td>\n",
       "      <td>{'hashtags': [], 'symbols': [], 'user_mentions...</td>\n",
       "    </tr>\n",
       "    <tr>\n",
       "      <th>3</th>\n",
       "      <td>2021-02-17 05:00:00+00:00</td>\n",
       "      <td>“You’re totally relationship goals.”\\r\\n\\r\\nSh...</td>\n",
       "      <td>{'hashtags': [], 'symbols': [], 'user_mentions...</td>\n",
       "    </tr>\n",
       "    <tr>\n",
       "      <th>4</th>\n",
       "      <td>2021-02-17 00:00:02+00:00</td>\n",
       "      <td>Here's a little love from us, to you. Yes, you...</td>\n",
       "      <td>{'hashtags': [], 'symbols': [], 'user_mentions...</td>\n",
       "    </tr>\n",
       "  </tbody>\n",
       "</table>\n",
       "</div>"
      ],
      "text/plain": [
       "                 created_at  \\\n",
       "0 2021-02-17 08:30:00+00:00   \n",
       "1 2021-02-17 07:20:20+00:00   \n",
       "2 2021-02-17 07:00:00+00:00   \n",
       "3 2021-02-17 05:00:00+00:00   \n",
       "4 2021-02-17 00:00:02+00:00   \n",
       "\n",
       "                                                text  \\\n",
       "0  Use this tweet as your Top 5 checklist - copy ...   \n",
       "1  (Btw… Filem Yin-Yang Master ni dan Yin-Yang Ma...   \n",
       "2  Master Qingming tak letih ke? Mana-mana pergi ...   \n",
       "3  “You’re totally relationship goals.”\\r\\n\\r\\nSh...   \n",
       "4  Here's a little love from us, to you. Yes, you...   \n",
       "\n",
       "                                            entities  \n",
       "0  {'hashtags': [], 'symbols': [], 'user_mentions...  \n",
       "1  {'hashtags': [], 'symbols': [], 'user_mentions...  \n",
       "2  {'hashtags': [], 'symbols': [], 'user_mentions...  \n",
       "3  {'hashtags': [], 'symbols': [], 'user_mentions...  \n",
       "4  {'hashtags': [], 'symbols': [], 'user_mentions...  "
      ]
     },
     "execution_count": 28,
     "metadata": {},
     "output_type": "execute_result"
    }
   ],
   "source": [
    "tweets['created_at'] = pd.to_datetime(tweets['created_at'])\n",
    "tweets.head()"
   ]
  },
  {
   "cell_type": "code",
   "execution_count": 29,
   "metadata": {
    "id": "n4sIIRxBJE5_"
   },
   "outputs": [
    {
     "data": {
      "text/html": [
       "<div>\n",
       "<style scoped>\n",
       "    .dataframe tbody tr th:only-of-type {\n",
       "        vertical-align: middle;\n",
       "    }\n",
       "\n",
       "    .dataframe tbody tr th {\n",
       "        vertical-align: top;\n",
       "    }\n",
       "\n",
       "    .dataframe thead th {\n",
       "        text-align: right;\n",
       "    }\n",
       "</style>\n",
       "<table border=\"1\" class=\"dataframe\">\n",
       "  <thead>\n",
       "    <tr style=\"text-align: right;\">\n",
       "      <th></th>\n",
       "      <th>created_at</th>\n",
       "      <th>text</th>\n",
       "      <th>entities</th>\n",
       "      <th>time_bin</th>\n",
       "    </tr>\n",
       "  </thead>\n",
       "  <tbody>\n",
       "    <tr>\n",
       "      <th>0</th>\n",
       "      <td>2021-02-17 08:30:00+00:00</td>\n",
       "      <td>Use this tweet as your Top 5 checklist - copy ...</td>\n",
       "      <td>{'hashtags': [], 'symbols': [], 'user_mentions...</td>\n",
       "      <td>Morning</td>\n",
       "    </tr>\n",
       "    <tr>\n",
       "      <th>1</th>\n",
       "      <td>2021-02-17 07:20:20+00:00</td>\n",
       "      <td>(Btw… Filem Yin-Yang Master ni dan Yin-Yang Ma...</td>\n",
       "      <td>{'hashtags': [], 'symbols': [], 'user_mentions...</td>\n",
       "      <td>Morning</td>\n",
       "    </tr>\n",
       "    <tr>\n",
       "      <th>2</th>\n",
       "      <td>2021-02-17 07:00:00+00:00</td>\n",
       "      <td>Master Qingming tak letih ke? Mana-mana pergi ...</td>\n",
       "      <td>{'hashtags': [], 'symbols': [], 'user_mentions...</td>\n",
       "      <td>Morning</td>\n",
       "    </tr>\n",
       "    <tr>\n",
       "      <th>3</th>\n",
       "      <td>2021-02-17 05:00:00+00:00</td>\n",
       "      <td>“You’re totally relationship goals.”\\r\\n\\r\\nSh...</td>\n",
       "      <td>{'hashtags': [], 'symbols': [], 'user_mentions...</td>\n",
       "      <td>Midnight</td>\n",
       "    </tr>\n",
       "    <tr>\n",
       "      <th>4</th>\n",
       "      <td>2021-02-17 00:00:02+00:00</td>\n",
       "      <td>Here's a little love from us, to you. Yes, you...</td>\n",
       "      <td>{'hashtags': [], 'symbols': [], 'user_mentions...</td>\n",
       "      <td>Midnight</td>\n",
       "    </tr>\n",
       "    <tr>\n",
       "      <th>...</th>\n",
       "      <td>...</td>\n",
       "      <td>...</td>\n",
       "      <td>...</td>\n",
       "      <td>...</td>\n",
       "    </tr>\n",
       "    <tr>\n",
       "      <th>207</th>\n",
       "      <td>2021-02-18 10:00:00+00:00</td>\n",
       "      <td>Buah fikiran ni dari 10 tahun lalu, konfem dah...</td>\n",
       "      <td>{'hashtags': [{'text': 'TehTarikThursdays', 'i...</td>\n",
       "      <td>Morning</td>\n",
       "    </tr>\n",
       "    <tr>\n",
       "      <th>208</th>\n",
       "      <td>2021-02-18 09:45:19+00:00</td>\n",
       "      <td>And thus arrived Kishibe Rohan — Thus Spoke Ki...</td>\n",
       "      <td>{'hashtags': [], 'symbols': [], 'user_mentions...</td>\n",
       "      <td>Morning</td>\n",
       "    </tr>\n",
       "    <tr>\n",
       "      <th>209</th>\n",
       "      <td>2021-02-18 04:00:00+00:00</td>\n",
       "      <td>Mulai hari ini, Admin hanya akan merujuk kepad...</td>\n",
       "      <td>{'hashtags': [], 'symbols': [], 'user_mentions...</td>\n",
       "      <td>Midnight</td>\n",
       "    </tr>\n",
       "    <tr>\n",
       "      <th>210</th>\n",
       "      <td>2021-02-18 03:00:00+00:00</td>\n",
       "      <td>When the main character becomes the main chara...</td>\n",
       "      <td>{'hashtags': [], 'symbols': [], 'user_mentions...</td>\n",
       "      <td>Midnight</td>\n",
       "    </tr>\n",
       "    <tr>\n",
       "      <th>211</th>\n",
       "      <td>2021-02-17 13:00:01+00:00</td>\n",
       "      <td>Anda akan dapat parking percuma sepanjang hidu...</td>\n",
       "      <td>{'hashtags': [], 'symbols': [], 'user_mentions...</td>\n",
       "      <td>Noon</td>\n",
       "    </tr>\n",
       "  </tbody>\n",
       "</table>\n",
       "<p>212 rows × 4 columns</p>\n",
       "</div>"
      ],
      "text/plain": [
       "                   created_at  \\\n",
       "0   2021-02-17 08:30:00+00:00   \n",
       "1   2021-02-17 07:20:20+00:00   \n",
       "2   2021-02-17 07:00:00+00:00   \n",
       "3   2021-02-17 05:00:00+00:00   \n",
       "4   2021-02-17 00:00:02+00:00   \n",
       "..                        ...   \n",
       "207 2021-02-18 10:00:00+00:00   \n",
       "208 2021-02-18 09:45:19+00:00   \n",
       "209 2021-02-18 04:00:00+00:00   \n",
       "210 2021-02-18 03:00:00+00:00   \n",
       "211 2021-02-17 13:00:01+00:00   \n",
       "\n",
       "                                                  text  \\\n",
       "0    Use this tweet as your Top 5 checklist - copy ...   \n",
       "1    (Btw… Filem Yin-Yang Master ni dan Yin-Yang Ma...   \n",
       "2    Master Qingming tak letih ke? Mana-mana pergi ...   \n",
       "3    “You’re totally relationship goals.”\\r\\n\\r\\nSh...   \n",
       "4    Here's a little love from us, to you. Yes, you...   \n",
       "..                                                 ...   \n",
       "207  Buah fikiran ni dari 10 tahun lalu, konfem dah...   \n",
       "208  And thus arrived Kishibe Rohan — Thus Spoke Ki...   \n",
       "209  Mulai hari ini, Admin hanya akan merujuk kepad...   \n",
       "210  When the main character becomes the main chara...   \n",
       "211  Anda akan dapat parking percuma sepanjang hidu...   \n",
       "\n",
       "                                              entities  time_bin  \n",
       "0    {'hashtags': [], 'symbols': [], 'user_mentions...   Morning  \n",
       "1    {'hashtags': [], 'symbols': [], 'user_mentions...   Morning  \n",
       "2    {'hashtags': [], 'symbols': [], 'user_mentions...   Morning  \n",
       "3    {'hashtags': [], 'symbols': [], 'user_mentions...  Midnight  \n",
       "4    {'hashtags': [], 'symbols': [], 'user_mentions...  Midnight  \n",
       "..                                                 ...       ...  \n",
       "207  {'hashtags': [{'text': 'TehTarikThursdays', 'i...   Morning  \n",
       "208  {'hashtags': [], 'symbols': [], 'user_mentions...   Morning  \n",
       "209  {'hashtags': [], 'symbols': [], 'user_mentions...  Midnight  \n",
       "210  {'hashtags': [], 'symbols': [], 'user_mentions...  Midnight  \n",
       "211  {'hashtags': [], 'symbols': [], 'user_mentions...      Noon  \n",
       "\n",
       "[212 rows x 4 columns]"
      ]
     },
     "execution_count": 29,
     "metadata": {},
     "output_type": "execute_result"
    }
   ],
   "source": [
    "bins = [0, 6, 12, 16, 20, 24]\n",
    "labels = ['Midnight', 'Morning', 'Noon', 'Evening', 'Night']\n",
    "\n",
    "tweets['time_bin'] = pd.cut(tweets['created_at'].dt.hour, bins, labels=labels, right=False)\n",
    "tweets"
   ]
  },
  {
   "cell_type": "code",
   "execution_count": 30,
   "metadata": {
    "id": "g_M2mzQ-JE9R"
   },
   "outputs": [
    {
     "data": {
      "text/html": [
       "<div>\n",
       "<style scoped>\n",
       "    .dataframe tbody tr th:only-of-type {\n",
       "        vertical-align: middle;\n",
       "    }\n",
       "\n",
       "    .dataframe tbody tr th {\n",
       "        vertical-align: top;\n",
       "    }\n",
       "\n",
       "    .dataframe thead th {\n",
       "        text-align: right;\n",
       "    }\n",
       "</style>\n",
       "<table border=\"1\" class=\"dataframe\">\n",
       "  <thead>\n",
       "    <tr style=\"text-align: right;\">\n",
       "      <th></th>\n",
       "      <th>counts</th>\n",
       "    </tr>\n",
       "    <tr>\n",
       "      <th>time_bin</th>\n",
       "      <th></th>\n",
       "    </tr>\n",
       "  </thead>\n",
       "  <tbody>\n",
       "    <tr>\n",
       "      <th>Morning</th>\n",
       "      <td>99</td>\n",
       "    </tr>\n",
       "    <tr>\n",
       "      <th>Midnight</th>\n",
       "      <td>68</td>\n",
       "    </tr>\n",
       "    <tr>\n",
       "      <th>Noon</th>\n",
       "      <td>45</td>\n",
       "    </tr>\n",
       "    <tr>\n",
       "      <th>Night</th>\n",
       "      <td>0</td>\n",
       "    </tr>\n",
       "    <tr>\n",
       "      <th>Evening</th>\n",
       "      <td>0</td>\n",
       "    </tr>\n",
       "  </tbody>\n",
       "</table>\n",
       "</div>"
      ],
      "text/plain": [
       "          counts\n",
       "time_bin        \n",
       "Morning       99\n",
       "Midnight      68\n",
       "Noon          45\n",
       "Night          0\n",
       "Evening        0"
      ]
     },
     "execution_count": 30,
     "metadata": {},
     "output_type": "execute_result"
    }
   ],
   "source": [
    "count_tweets = tweets['time_bin'].value_counts().rename_axis('time_bin').to_frame('counts')\n",
    "count_tweets"
   ]
  },
  {
   "cell_type": "code",
   "execution_count": 31,
   "metadata": {
    "id": "oWL-8vb2JFAF"
   },
   "outputs": [
    {
     "data": {
      "text/plain": [
       "<AxesSubplot:xlabel='time_bin'>"
      ]
     },
     "execution_count": 31,
     "metadata": {},
     "output_type": "execute_result"
    },
    {
     "data": {
      "image/png": "[encoded data removed]",
      "text/plain": [
       "<Figure size 432x288 with 1 Axes>"
      ]
     },
     "metadata": {
      "needs_background": "light"
     },
     "output_type": "display_data"
    }
   ],
   "source": [
    "count_tweets.sort_values(by=['time_bin'], ascending=True, inplace=True)\n",
    "count_tweets.plot.bar()"
   ]
  },
  {
   "cell_type": "code",
   "execution_count": 32,
   "metadata": {
    "id": "bhgVbrtGOS9K"
   },
   "outputs": [
    {
     "data": {
      "text/plain": [
       "<AxesSubplot:xlabel='time_bin'>"
      ]
     },
     "execution_count": 32,
     "metadata": {},
     "output_type": "execute_result"
    },
    {
     "data": {
      "image/png": "[encoded data removed]",
      "text/plain": [
       "<Figure size 432x288 with 1 Axes>"
      ]
     },
     "metadata": {
      "needs_background": "light"
     },
     "output_type": "display_data"
    }
   ],
   "source": [
    "count_tweets.sort_values(by=['counts'], ascending=True, inplace=True)\n",
    "count_tweets.plot.bar()"
   ]
  },
  {
   "cell_type": "markdown",
   "metadata": {
    "id": "EEe4xjNShpxR"
   },
   "source": [
    "## Top 10 Hashtags in Brand Mentions"
   ]
  },
  {
   "cell_type": "code",
   "execution_count": 33,
   "metadata": {
    "id": "toTvKOjhhwD2"
   },
   "outputs": [],
   "source": [
    "hashtaglist = []\n",
    "for obj in df['entities']:\n",
    "    split = obj.split(']')\n",
    "    split2= split[0].split('[')\n",
    "    split3 = split2[1]\n",
    "    if 'text' in split3:\n",
    "        split4 = split3.split(':')\n",
    "        split4 = split4[1].split(',')\n",
    "        split5 = split4[0].replace('\"', \"\")\n",
    "        split5 = split5.replace(\"'\", \"\")\n",
    "        hashtaglist.append(split5)\n",
    "        \n",
    "hashtag = pd.Series(hashtaglist)"
   ]
  },
  {
   "cell_type": "code",
   "execution_count": 34,
   "metadata": {
    "id": "pbVzXcmSiZ4T"
   },
   "outputs": [
    {
     "data": {
      "text/plain": [
       "<AxesSubplot:>"
      ]
     },
     "execution_count": 34,
     "metadata": {},
     "output_type": "execute_result"
    },
    {
     "name": "stderr",
     "output_type": "stream",
     "text": [
      "C:\\ProgramData\\Anaconda3\\lib\\site-packages\\matplotlib\\backends\\backend_agg.py:238: RuntimeWarning: Glyph 50689 missing from current font.\n",
      "  font.set_text(s, 0.0, flags=flags)\n",
      "C:\\ProgramData\\Anaconda3\\lib\\site-packages\\matplotlib\\backends\\backend_agg.py:238: RuntimeWarning: Glyph 51116 missing from current font.\n",
      "  font.set_text(s, 0.0, flags=flags)\n",
      "C:\\ProgramData\\Anaconda3\\lib\\site-packages\\matplotlib\\backends\\backend_agg.py:201: RuntimeWarning: Glyph 50689 missing from current font.\n",
      "  font.set_text(s, 0, flags=flags)\n",
      "C:\\ProgramData\\Anaconda3\\lib\\site-packages\\matplotlib\\backends\\backend_agg.py:201: RuntimeWarning: Glyph 51116 missing from current font.\n",
      "  font.set_text(s, 0, flags=flags)\n"
     ]
    },
    {
     "data": {
      "image/png": "[encoded data removed]",
      "text/plain": [
       "<Figure size 432x288 with 1 Axes>"
      ]
     },
     "metadata": {
      "needs_background": "light"
     },
     "output_type": "display_data"
    }
   ],
   "source": [
    "hashtags = hashtag.value_counts().to_frame('counts')\n",
    "hashtags[:10].plot.bar()"
   ]
  }
 ],
 "metadata": {
  "colab": {
   "collapsed_sections": [
    "IFoMzDfh3PrK",
    "livA6KUe-6nd",
    "3AvtVJ27_EZT",
    "cZ_vdh7BymLY",
    "CIrAiFyu13Wl",
    "nxUYa8omIPvd"
   ],
   "name": "Assignment_V2.0.ipynb",
   "provenance": []
  },
  "kernelspec": {
   "display_name": "Python 3",
   "language": "python",
   "name": "python3"
  },
  "language_info": {
   "codemirror_mode": {
    "name": "ipython",
    "version": 3
   },
   "file_extension": ".py",
   "mimetype": "text/x-python",
   "name": "python",
   "nbconvert_exporter": "python",
   "pygments_lexer": "ipython3",
   "version": "3.8.5"
  }
 },
 "nbformat": 4,
 "nbformat_minor": 1
}
