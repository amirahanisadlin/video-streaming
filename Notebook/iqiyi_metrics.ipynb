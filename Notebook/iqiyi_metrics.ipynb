{
 "cells": [
  {
   "cell_type": "markdown",
   "metadata": {},
   "source": [
    "# Age Groups"
   ]
  },
  {
   "cell_type": "markdown",
   "metadata": {},
   "source": [
    "## Followers"
   ]
  },
  {
   "cell_type": "code",
   "execution_count": null,
   "metadata": {},
   "outputs": [],
   "source": [
    "df = pd.read_csv('iqiyi_followers.csv') #Friends tukar followers.json\n",
    "df['created_at'] = pd.to_datetime(df['created_at'])\n",
    "df['year'] = df['created_at'].dt.strftime('%Y')\n",
    "df_age = df[['screen_name', 'year']]\n",
    "df_age['year'] = pd.to_numeric(df_age['year'])\n",
    "df_age"
   ]
  },
  {
   "cell_type": "code",
   "execution_count": null,
   "metadata": {},
   "outputs": [],
   "source": [
    "today = datetime.now() - timedelta()\n",
    "this_year = datetime.strftime(today, '%Y')\n",
    "df_age['age'] = int(this_year) - df_age['year']\n",
    "df_age"
   ]
  },
  {
   "cell_type": "code",
   "execution_count": null,
   "metadata": {},
   "outputs": [],
   "source": [
    "total_count = pd.DataFrame(df_age.age.value_counts().reset_index().values, columns=[\"age\", \"aggregate age\"])\n",
    "a = total_count.sort_values('age')\n",
    "a"
   ]
  },
  {
   "cell_type": "code",
   "execution_count": null,
   "metadata": {},
   "outputs": [],
   "source": [
    "age = a['age']\n",
    "count = a['aggregate age']\n",
    "\n",
    "fig, ax = plt.subplots(figsize =(16, 9)) \n",
    "\n",
    "# Horizontal Bar Plot \n",
    "ax.barh(age, count) \n",
    "\n",
    "# Remove axes splines \n",
    "for s in ['top', 'bottom', 'left', 'right']: \n",
    "\tax.spines[s].set_visible(False) \n",
    "\n",
    "# Remove x, y Ticks \n",
    "ax.xaxis.set_ticks_position('none') \n",
    "ax.yaxis.set_ticks_position('none') \n",
    "\n",
    "# Add padding between axes and labels \n",
    "ax.xaxis.set_tick_params(pad = 5) \n",
    "ax.yaxis.set_tick_params(pad = 10) \n",
    "\n",
    "# Add x, y gridlines \n",
    "ax.grid(b = True, color ='grey', \n",
    "\t\tlinestyle ='-.', linewidth = 0.5, \n",
    "\t\talpha = 0.2) \n",
    "\n",
    "# Show top values \n",
    "ax.invert_yaxis() \n",
    "\n",
    "# Add annotation to bars \n",
    "for i in ax.patches: \n",
    "\tplt.text(i.get_width()+0.2, i.get_y()+0.5, \n",
    "\t\t\tstr(round((i.get_width()), 2)), \n",
    "\t\t\tfontsize = 10, fontweight ='bold', \n",
    "\t\t\tcolor ='grey') \n",
    "\n",
    "# Add Plot Title \n",
    "ax.set_title('Age Groups of Followers', \n",
    "\t\t\tloc ='left', ) \n",
    "\n",
    "# Show Plot \n",
    "plt.show() "
   ]
  },
  {
   "cell_type": "markdown",
   "metadata": {},
   "source": [
    "## Friends"
   ]
  },
  {
   "cell_type": "code",
   "execution_count": null,
   "metadata": {},
   "outputs": [],
   "source": [
    "df = pd.read_csv('iqiyi_followers.csv') #Friends tukar followers.json\n",
    "df['created_at'] = pd.to_datetime(df['created_at'])\n",
    "df['year'] = df['created_at'].dt.strftime('%Y')\n",
    "df_age = df[['screen_name', 'year']]\n",
    "df_age['year'] = pd.to_numeric(df_age['year'])\n",
    "df_age"
   ]
  },
  {
   "cell_type": "code",
   "execution_count": null,
   "metadata": {},
   "outputs": [],
   "source": [
    "today = datetime.now() - timedelta()\n",
    "this_year = datetime.strftime(today, '%Y')\n",
    "df_age['age'] = int(this_year) - df_age['year']\n",
    "df_age"
   ]
  },
  {
   "cell_type": "code",
   "execution_count": null,
   "metadata": {},
   "outputs": [],
   "source": [
    "total_count = pd.DataFrame(df_age.age.value_counts().reset_index().values, columns=[\"age\", \"aggregate age\"])\n",
    "a = total_count.sort_values('age')\n",
    "a"
   ]
  },
  {
   "cell_type": "code",
   "execution_count": null,
   "metadata": {},
   "outputs": [],
   "source": [
    "age = a['age']\n",
    "count = a['aggregate age']\n",
    "\n",
    "fig, ax = plt.subplots(figsize =(16, 9)) \n",
    "\n",
    "# Horizontal Bar Plot \n",
    "ax.barh(age, count) \n",
    "\n",
    "# Remove axes splines \n",
    "for s in ['top', 'bottom', 'left', 'right']: \n",
    "\tax.spines[s].set_visible(False) \n",
    "\n",
    "# Remove x, y Ticks \n",
    "ax.xaxis.set_ticks_position('none') \n",
    "ax.yaxis.set_ticks_position('none') \n",
    "\n",
    "# Add padding between axes and labels \n",
    "ax.xaxis.set_tick_params(pad = 5) \n",
    "ax.yaxis.set_tick_params(pad = 10) \n",
    "\n",
    "# Add x, y gridlines \n",
    "ax.grid(b = True, color ='grey', \n",
    "\t\tlinestyle ='-.', linewidth = 0.5, \n",
    "\t\talpha = 0.2) \n",
    "\n",
    "# Show top values \n",
    "ax.invert_yaxis() \n",
    "\n",
    "# Add annotation to bars \n",
    "for i in ax.patches: \n",
    "\tplt.text(i.get_width()+0.2, i.get_y()+0.5, \n",
    "\t\t\tstr(round((i.get_width()), 2)), \n",
    "\t\t\tfontsize = 10, fontweight ='bold', \n",
    "\t\t\tcolor ='grey') \n",
    "\n",
    "# Add Plot Title \n",
    "ax.set_title('Age Groups of Followers', \n",
    "\t\t\tloc ='left', ) \n",
    "\n",
    "# Show Plot \n",
    "plt.show()"
   ]
  },
  {
   "cell_type": "markdown",
   "metadata": {},
   "source": [
    "# Followers"
   ]
  },
  {
   "cell_type": "markdown",
   "metadata": {},
   "source": [
    "## Growth"
   ]
  },
  {
   "cell_type": "code",
   "execution_count": null,
   "metadata": {},
   "outputs": [],
   "source": [
    "followers = pd.read_csv(\"iqiyi_followers_count.csv\")\n",
    "followers.head()"
   ]
  },
  {
   "cell_type": "code",
   "execution_count": null,
   "metadata": {},
   "outputs": [],
   "source": [
    "plt.figure(figsize=(20, 10))\n",
    "plt.plot(followers['Date Collected'], followers['Count'])\n",
    "plt.xlabel('Date')\n",
    "plt.ylabel('Count')\n",
    "plt.show()"
   ]
  },
  {
   "cell_type": "markdown",
   "metadata": {},
   "source": [
    "## Average Per Day"
   ]
  },
  {
   "cell_type": "code",
   "execution_count": null,
   "metadata": {},
   "outputs": [],
   "source": [
    "avg_fll_per_day = followers['Count'].sum()/14\n",
    "print(\"Average followers count daily: \", int(avg_fll_per_day))"
   ]
  },
  {
   "cell_type": "code",
   "execution_count": null,
   "metadata": {},
   "outputs": [],
   "source": [
    "i = 0\n",
    "total_fll_per_day = 0\n",
    "fll_growth_per_day = 0\n",
    "\n",
    "while i < 13:\n",
    "    fll_per_day = followers['Count'][i+1] - followers['Count'][i]\n",
    "    print(fll_per_day)\n",
    "    i+=1\n",
    "    \n",
    "    total_fll_per_day = total_fll_per_day + fll_per_day\n",
    "\n",
    "fll_growth_per_day = total_fll_per_day/14\n",
    "\n",
    "print(\"Followers Growth Per Day: \", int(fll_growth_per_day))"
   ]
  },
  {
   "cell_type": "markdown",
   "metadata": {},
   "source": [
    "# Average Mentions Per Day"
   ]
  },
  {
   "cell_type": "code",
   "execution_count": null,
   "metadata": {},
   "outputs": [],
   "source": [
    "davg = pd.read_csv('iqiyi_mentions.csv')"
   ]
  },
  {
   "cell_type": "code",
   "execution_count": null,
   "metadata": {},
   "outputs": [],
   "source": [
    "davg['created_at'] = pd.to_datetime(davg['created_at'])\n",
    "davg['date'] = [d.date() for d in davg['created_at']]\n",
    "davg['time'] = [d.time() for d in davg['created_at']]"
   ]
  },
  {
   "cell_type": "code",
   "execution_count": null,
   "metadata": {},
   "outputs": [],
   "source": [
    "avgtweet = davg.groupby('date')['text'].count()"
   ]
  },
  {
   "cell_type": "code",
   "execution_count": null,
   "metadata": {},
   "outputs": [],
   "source": [
    "avgtweet = avgtweet.to_frame()\n",
    "avgtweet = avgtweet.rename(columns={\"text\": \"tweets\"})"
   ]
  },
  {
   "cell_type": "code",
   "execution_count": null,
   "metadata": {},
   "outputs": [],
   "source": [
    "avgtweet.plot.bar()"
   ]
  },
  {
   "cell_type": "markdown",
   "metadata": {},
   "source": [
    "# Peak Time Per Day"
   ]
  },
  {
   "cell_type": "markdown",
   "metadata": {},
   "source": [
    "## Tweets"
   ]
  },
  {
   "cell_type": "code",
   "execution_count": null,
   "metadata": {},
   "outputs": [],
   "source": [
    "tweets = pd.read_csv('iqiyi_tweets.csv')"
   ]
  },
  {
   "cell_type": "code",
   "execution_count": null,
   "metadata": {},
   "outputs": [],
   "source": [
    "tweets['created_at'] = pd.to_datetime(tweets['created_at'])\n",
    "tweets.head()"
   ]
  },
  {
   "cell_type": "code",
   "execution_count": null,
   "metadata": {},
   "outputs": [],
   "source": [
    "bins = [0, 6, 12, 16, 20, 24]\n",
    "labels = ['Midnight', 'Morning', 'Noon', 'Evening', 'Night']\n",
    "\n",
    "tweets['time_bin'] = pd.cut(tweets['created_at'].dt.hour, bins, labels=labels, right=False)\n",
    "tweets"
   ]
  },
  {
   "cell_type": "code",
   "execution_count": null,
   "metadata": {},
   "outputs": [],
   "source": [
    "count_tweets = tweets['time_bin'].value_counts().rename_axis('time_bin').to_frame('counts')\n",
    "count_tweets"
   ]
  },
  {
   "cell_type": "code",
   "execution_count": null,
   "metadata": {},
   "outputs": [],
   "source": [
    "count_tweets.sort_values(by=['time_bin'], ascending=True, inplace=True)\n",
    "count_tweets.plot.bar()"
   ]
  },
  {
   "cell_type": "code",
   "execution_count": null,
   "metadata": {},
   "outputs": [],
   "source": [
    "count_tweets.sort_values(by=['counts'], ascending=True, inplace=True)\n",
    "count_tweets.plot.bar()"
   ]
  },
  {
   "cell_type": "markdown",
   "metadata": {},
   "source": [
    "## Mentions"
   ]
  },
  {
   "cell_type": "code",
   "execution_count": null,
   "metadata": {},
   "outputs": [],
   "source": [
    "mentions = pd.read_csv('iqiyi_mentions.csv')"
   ]
  },
  {
   "cell_type": "code",
   "execution_count": null,
   "metadata": {},
   "outputs": [],
   "source": [
    "mentions['created_at'] = pd.to_datetime(mentions['created_at'])\n",
    "mentions.head()"
   ]
  },
  {
   "cell_type": "code",
   "execution_count": null,
   "metadata": {},
   "outputs": [],
   "source": [
    "bins = [0, 6, 12, 16, 20, 24]\n",
    "labels = ['Midnight', 'Morning', 'Noon', 'Evening', 'Night']\n",
    "\n",
    "mentions['time_bin'] = pd.cut(mentions['created_at'].dt.hour, bins, labels=labels, right=False)\n",
    "mentions.head()"
   ]
  },
  {
   "cell_type": "code",
   "execution_count": null,
   "metadata": {},
   "outputs": [],
   "source": [
    "count_mentions = mentions['time_bin'].value_counts().rename_axis('time_bin').to_frame('counts')\n",
    "count_mentions"
   ]
  },
  {
   "cell_type": "code",
   "execution_count": null,
   "metadata": {},
   "outputs": [],
   "source": [
    "count_mentions.sort_values(by=['time_bin'], ascending=True, inplace=True)\n",
    "count_mentions.plot.bar()"
   ]
  },
  {
   "cell_type": "code",
   "execution_count": null,
   "metadata": {},
   "outputs": [],
   "source": [
    "count_mentions.sort_values(by=['counts'], ascending=True, inplace=True)\n",
    "count_mentions.plot.bar()"
   ]
  },
  {
   "cell_type": "markdown",
   "metadata": {},
   "source": [
    "# Top Hashtags Used"
   ]
  },
  {
   "cell_type": "code",
   "execution_count": null,
   "metadata": {},
   "outputs": [],
   "source": [
    "tweets = pd.read_csv(\"iqiyi_tweets.csv\")\n",
    "tweets.head()"
   ]
  },
  {
   "cell_type": "code",
   "execution_count": null,
   "metadata": {},
   "outputs": [],
   "source": [
    "hashtaglist = []\n",
    "for obj in tweets['entities']:\n",
    "    split = obj.split(']')\n",
    "    split2= split[0].split('[')\n",
    "    split3 = split2[1]\n",
    "    if 'text' in split3:\n",
    "        split4 = split3.split(':')\n",
    "        split4 = split4[1].split(',')\n",
    "        split5 = split4[0].replace('\"', \"\")\n",
    "        split5 = split5.replace(\"'\", \"\")\n",
    "        hashtaglist.append(split5)\n",
    "        \n",
    "hashtag = pd.Series(hashtaglist)\n",
    "hashtag.value_counts()"
   ]
  }
 ],
 "metadata": {
  "kernelspec": {
   "display_name": "Python 3",
   "language": "python",
   "name": "python3"
  },
  "language_info": {
   "codemirror_mode": {
    "name": "ipython",
    "version": 3
   },
   "file_extension": ".py",
   "mimetype": "text/x-python",
   "name": "python",
   "nbconvert_exporter": "python",
   "pygments_lexer": "ipython3",
   "version": "3.8.3"
  }
 },
 "nbformat": 4,
 "nbformat_minor": 4
}
